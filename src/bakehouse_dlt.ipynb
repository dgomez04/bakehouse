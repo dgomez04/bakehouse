{
 "cells": [
  {
   "cell_type": "code",
   "execution_count": 0,
   "metadata": {
    "application/vnd.databricks.v1+cell": {
     "cellMetadata": {},
     "inputWidgets": {},
     "nuid": "b3ce1c4a-8aeb-407e-a769-73a3d62cbac2",
     "showTitle": false,
     "tableResultSettingsMap": {},
     "title": ""
    }
   },
   "outputs": [],
   "source": [
    "CREATE STREAMING TABLE raw_franchises\n",
    "TBLPROPERTIES (\"quality\" = \"bronze\")\n",
    "COMMENT \"A streaming table for franchise data.\"\n",
    "AS SELECT\n",
    "  *\n",
    "FROM STREAM(bakehouse.sales.franchises)"
   ]
  },
  {
   "cell_type": "code",
   "execution_count": 0,
   "metadata": {
    "application/vnd.databricks.v1+cell": {
     "cellMetadata": {},
     "inputWidgets": {},
     "nuid": "1040ac69-aa81-4356-bf95-00d575245745",
     "showTitle": false,
     "tableResultSettingsMap": {},
     "title": ""
    }
   },
   "outputs": [],
   "source": [
    "CREATE STREAMING TABLE raw_sales_tx\n",
    "TBLPROPERTIES (\"quality\" = \"bronze\")\n",
    "COMMENT \"A streaming table for sales transactions.\"\n",
    "AS SELECT\n",
    "  *\n",
    "FROM STREAM(bakehouse.sales.transactions)"
   ]
  },
  {
   "cell_type": "code",
   "execution_count": 0,
   "metadata": {
    "application/vnd.databricks.v1+cell": {
     "cellMetadata": {},
     "inputWidgets": {},
     "nuid": "206645cf-6645-4ee5-9428-885df53de56e",
     "showTitle": false,
     "tableResultSettingsMap": {},
     "title": ""
    }
   },
   "outputs": [],
   "source": [
    "CREATE MATERIALIZED VIEW flagship_locations\n",
    "(CONSTRAINT supplierId_set EXPECT (f.supplierId IS NOT NULL) ON VIOLATION DROP ROW,\n",
    " CONSTRAINT correct_city EXPECT (f.city != \"test\") ON VIOLATION FAIL UPDATE)\n",
    "TBLPROPERTIES (\"quality\" = \"silver\")\n",
    "COMMENT \"Silver-layered materialized view to store flagship locations.\"\n",
    "AS SELECT\n",
    "  SUM(s.totalPrice) AS total_sales,\n",
    "  f.district,\n",
    "  f.city,\n",
    "  f.country, \n",
    "  f.supplierId\n",
    "FROM\n",
    "  LIVE.raw_sales_tx s\n",
    "  JOIN LIVE.raw_franchises f ON s.franchiseID = f.franchiseID\n",
    "WHERE\n",
    "  DATE(s.dateTime) = (SELECT MAX(DATE(dateTime)) FROM LIVE.raw_sales_tx)\n",
    "GROUP BY\n",
    "  ALL\n",
    "ORDER BY\n",
    "  total_sales DESC"
   ]
  }
 ],
 "metadata": {
  "application/vnd.databricks.v1+notebook": {
   "computePreferences": null,
   "dashboards": [],
   "environmentMetadata": {
    "base_environment": "",
    "environment_version": "2"
   },
   "inputWidgetPreferences": null,
   "language": "sql",
   "notebookMetadata": {
    "pythonIndentUnit": 4
   },
   "notebookName": "bakehouse_dlt",
   "widgets": {}
  },
  "language_info": {
   "name": "sql"
  }
 },
 "nbformat": 4,
 "nbformat_minor": 0
}
